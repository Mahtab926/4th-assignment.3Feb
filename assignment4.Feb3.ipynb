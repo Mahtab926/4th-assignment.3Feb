{
 "cells": [
  {
   "cell_type": "code",
   "execution_count": null,
   "id": "e261a63b-9b31-449c-9cdf-ba374ab9e5df",
   "metadata": {},
   "outputs": [],
   "source": [
    "#Answer1\n",
    "Ans: def keyword is used to create a function.\n",
    "\n",
    "\n",
    "#Create a function to return a list of odd numbers in the range of 1 to 25.\n",
    "def listOfOdd():\n",
    "    \"\"\"a function to return a list of odd numbers in the range of 1 to 25.\"\"\"\n",
    "    l1=[]\n",
    "    for i in range(1,25):\n",
    "        if i%2 != 0:\n",
    "            l1.append(i)\n",
    "    return l1\n",
    "listOfOdd()\n"
   ]
  },
  {
   "cell_type": "code",
   "execution_count": null,
   "id": "0246e5ab-5606-4e13-a89f-6c141c505768",
   "metadata": {},
   "outputs": [],
   "source": [
    "#Answer2\n",
    "Ans: We use *args and **kwargs as an argument when we are unsure about the number of arguments to pass in the functions.\n",
    "\n",
    "\n",
    "#a function for *args to demonstrate its use.\n",
    "def demo1(*args):\n",
    "    \"\"\"a function for *args to demonstrate its use.\"\"\"\n",
    "    index=0\n",
    "    for i in args:\n",
    "        print(\"The args[\"+str(index)+\"] having:\",i)\n",
    "        index+=1\n",
    " demo1(\"Hi\", \"There\", \"This is test\", 1)\n",
    " \n",
    " #a function for kwargs to demonstrate its use.\n",
    "def demo2(**kwargs):\n",
    "    \"\"\"a function for kwargs to demonstrate its use.\"\"\"\n",
    "    index=0\n",
    "    for key, value in kwargs.items():\n",
    "        print(\"The kwargs[\"+str(index)+\"] having key '\"+str(key)+ \"' and value '\"+str(value)+\"'\")\n",
    "        index+=1\n",
    "demo2(FirstName= \"Mahtab\", LastName= \"Alam\", Location= \"Patna\", CourseEnrolled= \"Data Science Master\")"
   ]
  },
  {
   "cell_type": "code",
   "execution_count": null,
   "id": "e5beaec7-5962-4cb3-80fe-257c657aa4e8",
   "metadata": {},
   "outputs": [],
   "source": [
    "#Answer3\n",
    "l=[2, 4, 6, 8, 10, 12, 14, 16, 18, 20]\n",
    "count=0\n",
    "for i in l:\n",
    "    if count<5:\n",
    "        print(i)\n",
    "        count+=1\n"
   ]
  },
  {
   "cell_type": "code",
   "execution_count": null,
   "id": "6aeefe8e-1fb2-4341-a627-4709db47e2ec",
   "metadata": {},
   "outputs": [],
   "source": [
    "#Answer4\n",
    "#the fibonacci series program using generator yield\n",
    "def fibonacci():\n",
    "    \"\"\"This function will generate fibonacci sequence\"\"\"\n",
    "    a, b = 0, 1\n",
    "    while True:\n",
    "        yield a\n",
    "        a, b = b, a + b\n",
    "\n",
    "fib = fibonacci()\n",
    "for i in range(10):\n",
    "    print(next(fib))\n"
   ]
  },
  {
   "cell_type": "code",
   "execution_count": null,
   "id": "afc8da40-34a9-40e2-b195-7dea91f8f256",
   "metadata": {},
   "outputs": [],
   "source": [
    "#Answer5\n",
    "#a generator function for prime numbers less than 1000. Use the next() method to print the first 20 prime numbers.\n",
    "def primes():\n",
    "    \"\"\"Create a generator function for prime numbers less than 1000.\"\"\"\n",
    "    yield 2\n",
    "    primes_list = [2]\n",
    "    for i in range(3, 1000):\n",
    "        is_prime = True\n",
    "        for prime in primes_list:\n",
    "            if i % prime == 0:\n",
    "                is_prime = False\n",
    "                break\n",
    "        if is_prime:\n",
    "            primes_list.append(i)\n",
    "            yield i\n",
    "\n",
    "prime_gen = primes()\n",
    "# the next() method to print the first 20 prime numbers.\n",
    "for i in range(20):\n",
    "    print(next(prime_gen))"
   ]
  },
  {
   "cell_type": "code",
   "execution_count": null,
   "id": "0b508532-5cf7-43b5-be8f-0cb73c754c64",
   "metadata": {},
   "outputs": [],
   "source": [
    "#Answer6\n",
    "#a python program to print the first 10 Fibonacci numbers using a while loop.\n",
    "def fibonacci(n):\n",
    "    \"\"\"This function will print fibonacci sequence\"\"\"\n",
    "    a, b = 0, 1\n",
    "    count = 0\n",
    "    while count < n:\n",
    "        print(a)\n",
    "        a, b = b, a + b\n",
    "        count += 1\n",
    "\n",
    "fibonacci(10)"
   ]
  },
  {
   "cell_type": "code",
   "execution_count": null,
   "id": "f08c6ea7-0b36-4f04-9b59-d7b116c1f9e2",
   "metadata": {},
   "outputs": [],
   "source": [
    "#Answer7\n",
    "#a List Comprehension to iterate through the given string: ‘pwskills’.\n",
    "string = 'pwskills'\n",
    "output = [char for char in string]\n",
    "print(output)\n"
   ]
  },
  {
   "cell_type": "code",
   "execution_count": null,
   "id": "3b1699f7-a382-45f5-81d0-a2470f502900",
   "metadata": {},
   "outputs": [],
   "source": [
    "#Answer8\n",
    "#a python program to check whether a given number is Palindrome or not using a while loop.\n",
    "n = int(input(\"Please give a number : \"))\n",
    "def reverse(num):\n",
    "    if num<10:\n",
    "      return num \n",
    "    else:\n",
    "      return int(str(num%10) + str(reverse(num//10)))\n",
    "def isPalindrome(num):\n",
    "    if num == reverse(num):\n",
    "        return 1\n",
    "    return 0\n",
    "if isPalindrome(n) == 1:\n",
    "    print(\"Given number is a palindrome\")\n",
    "else:\n",
    "    print(\"Given number is a not palindrome\") \n"
   ]
  },
  {
   "cell_type": "code",
   "execution_count": null,
   "id": "3652303a-c5e7-4cef-98db-87e3514baccf",
   "metadata": {},
   "outputs": [],
   "source": [
    "#Answer9\n",
    "#a code to print odd numbers from 1 to 100 using list comprehension.\n",
    "[odd for odd in range(1,100) if odd%2!=0]"
   ]
  }
 ],
 "metadata": {
  "kernelspec": {
   "display_name": "Python 3 (ipykernel)",
   "language": "python",
   "name": "python3"
  },
  "language_info": {
   "codemirror_mode": {
    "name": "ipython",
    "version": 3
   },
   "file_extension": ".py",
   "mimetype": "text/x-python",
   "name": "python",
   "nbconvert_exporter": "python",
   "pygments_lexer": "ipython3",
   "version": "3.10.8"
  }
 },
 "nbformat": 4,
 "nbformat_minor": 5
}
